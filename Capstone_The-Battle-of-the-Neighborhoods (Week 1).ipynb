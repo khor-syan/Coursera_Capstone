{
 "cells": [
  {
   "cell_type": "markdown",
   "metadata": {},
   "source": [
    "# <span style=\"color:#002e63\">Capstone Project - The Battle of the Neighborhoods (Week 1)</span>\n",
    "### <span style=\"color:#002e63\"> Applied Data Science Capstone by IBM/Coursera </span>"
   ]
  },
  {
   "cell_type": "markdown",
   "metadata": {
    "button": false,
    "new_sheet": false,
    "run_control": {
     "read_only": false
    }
   },
   "source": [
    "# <span style=\"color:#002e63\">Introduction: Business Problem <a name=\"introduction\"></a></span>\n",
    "\n",
    "This project is aimed at finding an optimal location for a restaurant which will offer mainly business lunches for its customers. The area of interest is the downtown of Yerevan, capital of Armenia. Although Food and beverage service has been growing at a higher rate in Yerevan over the last years due to domestic demand as well as the growth of touristic inflows, there is still a gap between demand and supply in reasonable and high quality lunch restaurants. The majority of newly opened restaurants in Yerevan are either fast food restaurants or not affordable for ordinary citizens. Conducting a survey among the workers from different industries and locations it was evident that majority of them share the same concerns stating that the quality and the service of lunch restaurants are not satisfactory. \n",
    "So, in this project we are going to find the most suitable locations for opening up a lunch restaurant which can be beneficial for both the customers and the investors.\n",
    "\n",
    "At first we are going to find all the restaurants operating in downtown of Yerevan, then detect those which offer lunch menus. The most suitable **locations could be those which are either less crowded with restaurants or mostly have food chains with lower quality as well as those where majority of restaurants are expensive. The proxy measure of demand should be cosidered as well by taking into consideration how croweded are that locations with offices and governmnet and municipal buildings as the target customers of these restaurants are employees from both public and private sectors**. "
   ]
  },
  {
   "cell_type": "markdown",
   "metadata": {},
   "source": [
    "# <span style=\"color:#002e63\"> Data <a name=\"data\"></a></span>"
   ]
  },
  {
   "cell_type": "markdown",
   "metadata": {},
   "source": [
    "Based on definition of our problem, factors that will influence our decission are:\n",
    "* number of existing restaurants in the neighborhood,\n",
    "* number of and the quality as well as the popularity and price segmen of the restaurants offering lunch menus in the   neighborhood,\n",
    "* the locations with most crowded workplaces.\n",
    "\n",
    "We decided to use regularly spaced grid of locations, centered around city center (Republic Square), to define our neighborhoods.\n",
    "\n",
    "Following data sources will be needed to extract/generate the required information:\n",
    "* centers of candidate areas will be generated algorithmically and approximate addresses of centers of those areas will be obtained using **Google Maps API reverse geocoding**\n",
    "* number of restaurants and their type, location, menu, rating in every neighborhood will be obtained using **Foursquare API**\n",
    "* most popular Foursquare Food chains in Yerevan, Armenia will be obtained using **https://www.4sqstat.com**"
   ]
  }
 ],
 "metadata": {
  "kernelspec": {
   "display_name": "Python 3",
   "language": "python",
   "name": "python3"
  },
  "language_info": {
   "codemirror_mode": {
    "name": "ipython",
    "version": 3
   },
   "file_extension": ".py",
   "mimetype": "text/x-python",
   "name": "python",
   "nbconvert_exporter": "python",
   "pygments_lexer": "ipython3",
   "version": "3.7.3"
  },
  "widgets": {
   "state": {},
   "version": "1.1.2"
  }
 },
 "nbformat": 4,
 "nbformat_minor": 4
}
